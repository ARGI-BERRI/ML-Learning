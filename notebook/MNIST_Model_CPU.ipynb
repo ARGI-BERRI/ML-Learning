{
 "cells": [
  {
   "cell_type": "code",
   "execution_count": 4,
   "metadata": {},
   "outputs": [],
   "source": [
    "from torch import nn, optim, Tensor"
   ]
  },
  {
   "cell_type": "code",
   "execution_count": 5,
   "metadata": {},
   "outputs": [],
   "source": [
    "class MLPModel(nn.Module):\n",
    "    def __init__(self) -> None:\n",
    "        super().__init__()\n",
    "        \n",
    "        self.fc1 = nn.Linear(784, 512)\n",
    "        self.fc2 = nn.Linear(512, 10)\n",
    "\n",
    "        self.criterion = nn.MSELoss()\n",
    "        self.optimizer = optim.Adam(self.parameters())\n",
    "\n",
    "    def forward(self, x: Tensor) -> Tensor:\n",
    "        x = self.fc1(x)\n",
    "        x = nn.functional.relu(x)\n",
    "        x = self.fc2(x)\n",
    "\n",
    "        return x"
   ]
  },
  {
   "cell_type": "code",
   "execution_count": 6,
   "metadata": {},
   "outputs": [],
   "source": [
    "from torchvision import datasets, transforms\n",
    "from torch.utils.data import DataLoader\n",
    "\n",
    "trainset = datasets.MNIST(\n",
    "    root='./data', \n",
    "    train=True, \n",
    "    download=True, \n",
    "    transform=transforms.ToTensor()\n",
    ")\n",
    "\n",
    "testset = datasets.MNIST(\n",
    "    root='./data', \n",
    "    train=False,\n",
    "    download=True, \n",
    "    transform=transforms.ToTensor()\n",
    ")\n",
    "\n",
    "train_loader = DataLoader(\n",
    "    trainset, \n",
    "    batch_size=100, \n",
    "    shuffle=True, \n",
    "    num_workers=2\n",
    ")\n",
    "\n",
    "test_loader = DataLoader(\n",
    "    testset, \n",
    "    batch_size=100, \n",
    "    shuffle=False, \n",
    "    num_workers=2\n",
    ")"
   ]
  },
  {
   "cell_type": "code",
   "execution_count": 7,
   "metadata": {},
   "outputs": [],
   "source": [
    "import torch\n",
    "\n",
    "def train(model: nn.Module, train_loader: DataLoader):\n",
    "    model.train()\n",
    "\n",
    "    total_count = 0\n",
    "    total_correct = 0\n",
    "    total_loss = 0\n",
    "\n",
    "    for batch_imgs, batch_labels in train_loader:\n",
    "        batch_imgs = batch_imgs.reshape(-1, 28 * 28)\n",
    "        labels = torch.eye(10)[batch_labels]\n",
    "\n",
    "        outputs = model(batch_imgs)\n",
    "\n",
    "        # 勾配の計算\n",
    "        model.optimizer.zero_grad()\n",
    "\n",
    "        loss = model.criterion(outputs, labels)\n",
    "        loss.backward()\n",
    "\n",
    "        # 最適化\n",
    "        model.optimizer.step()\n",
    "        \n",
    "\n",
    "        # 正答率、損失の記録\n",
    "        _, predicts = torch.max(outputs, 1)\n",
    "        \n",
    "        for i in range(len(batch_labels)):\n",
    "            total_count += 1\n",
    "            \n",
    "            if predicts[i] == batch_labels[i]:\n",
    "                total_correct += 1\n",
    "                continue\n",
    "            \n",
    "            total_loss += loss.item()\n",
    "\n",
    "    accuracy = total_correct / total_count\n",
    "    loss = total_loss / total_count\n",
    "    \n",
    "    return accuracy, loss"
   ]
  },
  {
   "cell_type": "code",
   "execution_count": 8,
   "metadata": {},
   "outputs": [
    {
     "name": "stdout",
     "output_type": "stream",
     "text": [
      "Accuracy: 94.5983\n",
      "Loss: 0.0014\n"
     ]
    }
   ],
   "source": [
    "model = MLPModel()\n",
    "\n",
    "acc, loss = train(model, train_loader)\n",
    "\n",
    "print(f'Accuracy: {acc * 100 :.4F}')\n",
    "print(f'Loss: {loss:.4F}')"
   ]
  },
  {
   "cell_type": "code",
   "execution_count": null,
   "metadata": {},
   "outputs": [],
   "source": []
  }
 ],
 "metadata": {
  "kernelspec": {
   "display_name": "pytorch",
   "language": "python",
   "name": "python3"
  },
  "language_info": {
   "codemirror_mode": {
    "name": "ipython",
    "version": 3
   },
   "file_extension": ".py",
   "mimetype": "text/x-python",
   "name": "python",
   "nbconvert_exporter": "python",
   "pygments_lexer": "ipython3",
   "version": "3.10.11"
  },
  "orig_nbformat": 4
 },
 "nbformat": 4,
 "nbformat_minor": 2
}
