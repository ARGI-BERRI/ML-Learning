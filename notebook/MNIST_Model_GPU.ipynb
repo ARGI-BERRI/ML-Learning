{
 "cells": [
  {
   "attachments": {},
   "cell_type": "markdown",
   "metadata": {},
   "source": [
    "### 参考\n",
    "\n",
    "- https://imagingsolution.net/deep-learning/pytorch/pytorch_mnist_sample_program/"
   ]
  },
  {
   "cell_type": "code",
   "execution_count": 1,
   "metadata": {},
   "outputs": [],
   "source": [
    "from torch_directml import device\n",
    "\n",
    "dml = device()"
   ]
  },
  {
   "cell_type": "code",
   "execution_count": 2,
   "metadata": {},
   "outputs": [],
   "source": [
    "from torch.utils.data import DataLoader\n",
    "from torchvision import datasets, transforms\n",
    "\n",
    "transform = transforms.Compose([\n",
    "    transforms.ToTensor()\n",
    "])\n",
    "\n",
    "trainset = datasets.MNIST(\n",
    "    root='./data', \n",
    "    train=True, \n",
    "    download=True, \n",
    "    transform=transform\n",
    ")\n",
    "\n",
    "testset = datasets.MNIST(\n",
    "    root='./data', \n",
    "    train=False,\n",
    "    download=True, \n",
    "    transform=transform\n",
    ")\n",
    "\n",
    "train_dataloader = DataLoader(\n",
    "    trainset, \n",
    "    batch_size=100, \n",
    "    shuffle=True, \n",
    ")\n",
    "\n",
    "test_dataloader = DataLoader(\n",
    "    testset, \n",
    "    batch_size=100, \n",
    "    shuffle=False, \n",
    ")"
   ]
  },
  {
   "cell_type": "code",
   "execution_count": 8,
   "metadata": {},
   "outputs": [
    {
     "name": "stdout",
     "output_type": "stream",
     "text": [
      "Epoch: 1, Loss: 0.4004826863606771\n",
      "Epoch: 2, Loss: 0.19105876922607423\n",
      "Epoch: 3, Loss: 0.14109102884928384\n",
      "Epoch: 4, Loss: 0.1097244135538737\n",
      "Epoch: 5, Loss: 0.09047023773193359\n",
      "Epoch: 6, Loss: 0.07557068506876628\n",
      "Epoch: 7, Loss: 0.06330962498982748\n",
      "Epoch: 8, Loss: 0.05446879704793294\n",
      "Epoch: 9, Loss: 0.04681886037190755\n",
      "Epoch: 10, Loss: 0.04070676485697428\n"
     ]
    }
   ],
   "source": [
    "import torch\n",
    "import torch.nn.functional as F\n",
    "from torch import Tensor, nn\n",
    "\n",
    "class MLPModel(nn.Module):\n",
    "    def __init__(self) -> None:\n",
    "        super(MLPModel, self).__init__()\n",
    "        \n",
    "        self.fc1 = nn.Linear(784, 100)\n",
    "        self.fc2 = nn.Linear(100, 10)\n",
    "\n",
    "    def forward(self, x: Tensor) -> Tensor:\n",
    "        x = self.fc1(x)\n",
    "        x = F.relu(x)\n",
    "        x = self.fc2(x)\n",
    "\n",
    "        return x\n",
    "    \n",
    "model = MLPModel().to(dml)\n",
    "criterion = nn.CrossEntropyLoss()\n",
    "optimizer = torch.optim.Adam(model.parameters(), lr=0.001)\n",
    "\n",
    "model.train()\n",
    "\n",
    "for i in range(10):\n",
    "    loss_sum = 0\n",
    "\n",
    "    for inputs, labels in train_dataloader:\n",
    "        inputs = inputs.to(dml)\n",
    "        labels = labels.to(dml)\n",
    "\n",
    "        # 勾配の計算\n",
    "        optimizer.zero_grad()\n",
    "\n",
    "        # 学習\n",
    "        inputs = inputs.view(-1, 28 * 28) # データを一次元化\n",
    "        outputs = model(inputs)\n",
    "\n",
    "        # 損失の計算\n",
    "        loss = criterion(outputs, labels)\n",
    "        loss_sum += loss\n",
    "\n",
    "        # 勾配の計算\n",
    "        loss.backward()\n",
    "\n",
    "        # 最適化\n",
    "        optimizer.step()\n",
    "\n",
    "    print(f'Epoch: {i + 1}, Loss: {loss_sum.item() / len(train_dataloader)}')\n",
    "    torch.save(model.state_dict(), 'model_weights.pth')        "
   ]
  },
  {
   "cell_type": "code",
   "execution_count": 9,
   "metadata": {},
   "outputs": [
    {
     "name": "stdout",
     "output_type": "stream",
     "text": [
      "Loss: 0.07903732359409332, Acc: 0.9755\n"
     ]
    }
   ],
   "source": [
    "loss_sum = 0\n",
    "correct = 0\n",
    "\n",
    "with torch.no_grad():\n",
    "    for inputs, labels in test_dataloader:\n",
    "        inputs = inputs.to(dml)\n",
    "        labels = labels.to(dml)\n",
    "\n",
    "        inputs = inputs.view(-1, 28 * 28)\n",
    "        outputs = model(inputs)\n",
    "\n",
    "        loss_sum += criterion(outputs, labels)\n",
    "        pred = outputs.argmax(1)\n",
    "        correct += pred.eq(labels.view_as(pred)).sum().item()\n",
    "\n",
    "print(f'Loss: {loss_sum / len(test_dataloader)}, Acc: {correct / len(testset)}')"
   ]
  }
 ],
 "metadata": {
  "kernelspec": {
   "display_name": "pytorch",
   "language": "python",
   "name": "python3"
  },
  "language_info": {
   "codemirror_mode": {
    "name": "ipython",
    "version": 3
   },
   "file_extension": ".py",
   "mimetype": "text/x-python",
   "name": "python",
   "nbconvert_exporter": "python",
   "pygments_lexer": "ipython3",
   "version": "3.10.11"
  },
  "orig_nbformat": 4
 },
 "nbformat": 4,
 "nbformat_minor": 2
}
